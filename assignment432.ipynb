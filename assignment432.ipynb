{
 "cells": [
  {
   "cell_type": "markdown",
   "metadata": {},
   "source": [
    "### CS4423 - Networks\n",
    "Prof. Götz Pfeiffer<br />\n",
    "School of Mathematics, Statistics and Applied Mathematics<br />\n",
    "NUI Galway"
   ]
  },
  {
   "cell_type": "markdown",
   "metadata": {},
   "source": [
    "# Assignment 4"
   ]
  },
  {
   "cell_type": "markdown",
   "metadata": {},
   "source": [
    "Provide answers to the problems in the cells provided.  \n",
    "The buttons at the top of the page can be used to create\n",
    "more cells if needed.\n",
    "The type of cell can be changed from `Code` to `Markdown` (and back).\n",
    "`Code` cells take (and execute) `python` code.\n",
    "`Markdown` cells take (and format nicely) text input.\n",
    "In this way, you can provide answers, ask questions, \n",
    "or raise issues, in words.\n",
    "\n",
    "Marks will be awarded for\n",
    "participation and engagement.\n",
    "\n",
    "When finished, print this notebook into a **pdf** file and submit this to\n",
    "**blackboard**.\n",
    "\n",
    "**Deadline** is next Tuesday at 5pm."
   ]
  },
  {
   "cell_type": "markdown",
   "metadata": {},
   "source": [
    "## Setup"
   ]
  },
  {
   "cell_type": "markdown",
   "metadata": {},
   "source": [
    "This is a `jupyter` notebook.  Find an environment that allows you to work with it.  You can either\n",
    "install `jupyter` as a python package on your own laptop or PC.  Or you can use a suitable website\n",
    "on the internet, such as [nbviewer](https://nbviewer.jupyter.org/github/cs4423) and `binder`.\n",
    "\n",
    "In order to execute the code in a cell,\n",
    "use the mouse or arrow keys to highlight the box and then press SHIFT-RETURN.\n",
    "\n",
    "Should it ever happen that the notebook becomes unusable, start again with a fresh copy."
   ]
  },
  {
   "cell_type": "markdown",
   "metadata": {},
   "source": [
    "The following packages need to be loaded for this notebook to work."
   ]
  },
  {
   "cell_type": "code",
   "execution_count": 1,
   "metadata": {},
   "outputs": [],
   "source": [
    "import numpy as np\n",
    "import pandas as pd\n",
    "import networkx as nx\n",
    "import matplotlib.pyplot as plt"
   ]
  },
  {
   "cell_type": "markdown",
   "metadata": {},
   "source": [
    "## 1.  A Citation Network"
   ]
  },
  {
   "cell_type": "markdown",
   "metadata": {},
   "source": [
    "The file `scientometrics.net` contains a representation of a network of citations between the $1656$ articles that\n",
    "appeared from 1978 to 2004 in [Scientometrics](https://en.wikipedia.org/wiki/Scientometrics_(journal)), \n",
    "a journal devoted to the field of bibliometrics and the \"Science of Science\".  It is loaded into a graph `G`\n",
    "as follows."
   ]
  },
  {
   "cell_type": "code",
   "execution_count": 2,
   "metadata": {},
   "outputs": [],
   "source": [
    "E = nx.read_edgelist(\"scientometrics.net\", create_using=nx.DiGraph, nodetype=int)\n",
    "G = nx.DiGraph()\n",
    "G.add_nodes_from(range(1, 1656))\n",
    "G.add_edges_from(E.edges())"
   ]
  },
  {
   "cell_type": "markdown",
   "metadata": {},
   "source": [
    "`G` as a lot of nodes and even more edges:  **Don't draw** this network."
   ]
  },
  {
   "cell_type": "code",
   "execution_count": 3,
   "metadata": {},
   "outputs": [
    {
     "data": {
      "text/plain": [
       "(1655, 4123)"
      ]
     },
     "execution_count": 3,
     "metadata": {},
     "output_type": "execute_result"
    }
   ],
   "source": [
    "m, n = G.order(), G.size()\n",
    "m, n"
   ]
  },
  {
   "cell_type": "markdown",
   "metadata": {},
   "source": [
    "The file `scientometrics_paper_year.txt` contains, for most but not all articles in the network, \n",
    "their year of publication.  It is loaded and stored as node attributes as follows"
   ]
  },
  {
   "cell_type": "code",
   "execution_count": 4,
   "metadata": {},
   "outputs": [],
   "source": [
    "years = np.loadtxt(\"scientometrics_paper_year.txt\", dtype=\"int\")\n",
    "for date in years:\n",
    "    G.nodes[date[0]]['year'] = date[1]"
   ]
  },
  {
   "cell_type": "markdown",
   "metadata": {},
   "source": [
    "Now most nodes have their publication year as value of the `'year'` key in their attributes dictionary.\n",
    "For example, node $1113$."
   ]
  },
  {
   "cell_type": "code",
   "execution_count": 5,
   "metadata": {},
   "outputs": [
    {
     "data": {
      "text/plain": [
       "1999"
      ]
     },
     "execution_count": 5,
     "metadata": {},
     "output_type": "execute_result"
    }
   ],
   "source": [
    "G.nodes[1113]['year']"
   ]
  },
  {
   "cell_type": "markdown",
   "metadata": {},
   "source": [
    "If the publication year of a node is not known, the normal dictionary access by the key `'year'` will fail\n",
    "with an error message.  Using the method `get()` instead will return `None` in such a case."
   ]
  },
  {
   "cell_type": "code",
   "execution_count": 6,
   "metadata": {},
   "outputs": [
    {
     "name": "stdout",
     "output_type": "stream",
     "text": [
      "None\n"
     ]
    }
   ],
   "source": [
    "print(G.nodes[4].get('year'))"
   ]
  },
  {
   "cell_type": "markdown",
   "metadata": {},
   "source": [
    "In a directed network, one distinguishes between the **in-degree** and the **out-degree** of a node.\n",
    "This distinction leads to **two** separate degree distributions.   The out-degree distribution\n",
    "can be computed as follows."
   ]
  },
  {
   "cell_type": "code",
   "execution_count": 7,
   "metadata": {
    "scrolled": true
   },
   "outputs": [
    {
     "name": "stdout",
     "output_type": "stream",
     "text": [
      "[(0, 596), (1, 303), (2, 205), (3, 141), (4, 95), (5, 81), (6, 72), (7, 48), (8, 37), (9, 21), (10, 17), (11, 6), (12, 6), (13, 5), (14, 4), (15, 1), (16, 2), (17, 2), (18, 4), (20, 2), (22, 1), (24, 3), (34, 1), (43, 1), (156, 1)]\n"
     ]
    }
   ],
   "source": [
    "outs = {}\n",
    "for (n, d) in G.out_degree():\n",
    "    outs[d] = outs.get(d, 0) + 1\n",
    "\n",
    "outs = list(outs.items())\n",
    "outs.sort()\n",
    "print(outs)"
   ]
  },
  {
   "cell_type": "markdown",
   "metadata": {},
   "source": [
    "Excluding the degree $0$ count, a loglog plot of the out-degree frequencies\n",
    "looks as follows."
   ]
  },
  {
   "cell_type": "code",
   "execution_count": 8,
   "metadata": {},
   "outputs": [
    {
     "data": {
      "text/plain": [
       "<matplotlib.axes._subplots.AxesSubplot at 0x7f6e9f4fb588>"
      ]
     },
     "execution_count": 8,
     "metadata": {},
     "output_type": "execute_result"
    },
    {
     "data": {
      "image/png": "[encoded data removed]",
      "text/plain": [
       "<Figure size 432x288 with 1 Axes>"
      ]
     },
     "metadata": {
      "needs_background": "light"
     },
     "output_type": "display_data"
    }
   ],
   "source": [
    "df = pd.DataFrame(outs[1:])\n",
    "df.plot.scatter(x = 0, y = 1, loglog=True)"
   ]
  },
  {
   "cell_type": "markdown",
   "metadata": {},
   "source": [
    "Does that look like a power law degree distribution?"
   ]
  },
  {
   "cell_type": "markdown",
   "metadata": {},
   "source": [
    "* If you were to draw a straight line through the plot, approximating the data points, what\n",
    "would the slope of that line be, approximately?\n",
    "* Following the above example, compile a histogram of the in-degrees of the graph `G`,\n",
    "discard the $0$-degree nodes, and then create a loglog plot of the remaining data points.\n",
    "* If you were to draw a straight line through the plot, approximating the data points, what\n",
    "would the slope of that line be, approximately?\n",
    "* Go back in time and recover the state of the network at the end of $1998$ (as a subgraph `G0`\n",
    "of `G`).  Then, for articles published from $1999$ onwards, determine the frequency of\n",
    "articles in `G0` being cited, in relation to their degree in `G0`, and plot\n",
    "the result in a meaningful way.\n",
    "\n",
    "(To enable input for the text cell below, highlight the cell and press return.\n",
    "To typeset the text nicely, and disable input, type SHIFT-return.)"
   ]
  },
  {
   "cell_type": "markdown",
   "metadata": {},
   "source": [
    "Yes the graph looks like a power law degree distribution. The approx. slope is 19/23.\n"
   ]
  },
  {
   "cell_type": "code",
   "execution_count": 9,
   "metadata": {},
   "outputs": [
    {
     "data": {
      "text/plain": [
       "<matplotlib.axes._subplots.AxesSubplot at 0x7f6e9d2689e8>"
      ]
     },
     "execution_count": 9,
     "metadata": {},
     "output_type": "execute_result"
    },
    {
     "data": {
      "image/png": "[encoded data removed]",
      "text/plain": [
       "<Figure size 432x288 with 1 Axes>"
      ]
     },
     "metadata": {
      "needs_background": "light"
     },
     "output_type": "display_data"
    }
   ],
   "source": [
    "ins = {}\n",
    "for (n, d) in G.in_degree():\n",
    "    ins[d] = ins.get(d, 0) + 1\n",
    "\n",
    "ins = list(ins.items())\n",
    "ins.sort()\n",
    "df = pd.DataFrame(ins[1:])\n",
    "df.plot.scatter(x = 0, y = 1, loglog=True)"
   ]
  },
  {
   "cell_type": "markdown",
   "metadata": {},
   "source": [
    "The second slope is approximately equal to 1."
   ]
  },
  {
   "cell_type": "code",
   "execution_count": 10,
   "metadata": {},
   "outputs": [
    {
     "data": {
      "text/plain": [
       "<matplotlib.axes._subplots.AxesSubplot at 0x7f6e9d0fae10>"
      ]
     },
     "execution_count": 10,
     "metadata": {},
     "output_type": "execute_result"
    },
    {
     "data": {
      "image/png": "[encoded data removed]",
      "text/plain": [
       "<Figure size 432x288 with 1 Axes>"
      ]
     },
     "metadata": {
      "needs_background": "light"
     },
     "output_type": "display_data"
    }
   ],
   "source": [
    "nodes0 = [x for x in G if G.nodes[x].get('year', 0) < 1999]\n",
    "nodes1 = [x for x in G if G.nodes[x].get('year', 0) >= 1999]\n",
    "\n",
    "G0 = G.subgraph(nodes0)\n",
    "\n",
    "for x in G0:\n",
    "    G0.nodes[x]['citations'] = 0\n",
    "\n",
    "for x in nodes1:\n",
    "    for y in G[x]:\n",
    "        if y in G0:\n",
    "            G0.nodes[y]['citations'] += 1\n",
    "\n",
    "max_in0 = max(dict(G0.in_degree()).values())\n",
    "cd = [0 for d in range(max_in0+1)]\n",
    "hist = [0 for d in range(max_in0+1)]\n",
    "for x in G0:\n",
    "    d = G0.in_degree(x)\n",
    "    hist[d] += 1\n",
    "    cd[d] += G0.nodes[x]['citations']\n",
    "\n",
    "cd = [(i, cd[i]/v) for i, v in enumerate(hist) if v != 0]\n",
    "pd.DataFrame(cd).plot.scatter(x = 0, y = 1)"
   ]
  },
  {
   "cell_type": "markdown",
   "metadata": {},
   "source": [
    "### 2. Configuration Model"
   ]
  },
  {
   "cell_type": "markdown",
   "metadata": {},
   "source": [
    "A configuration model can be produced with the following python program:"
   ]
  },
  {
   "cell_type": "code",
   "execution_count": 11,
   "metadata": {},
   "outputs": [],
   "source": [
    "from random import shuffle\n",
    "\n",
    "def stubs_list(a):\n",
    "    return sum([v * [i] for i, v in enumerate(a)], [])\n",
    "\n",
    "def configuration(degrees):\n",
    "    m = sum(degrees) // 2  # size of resulting graph\n",
    "    stubs = stubs_list(degrees)\n",
    "    shuffle(stubs)\n",
    "    G = nx.Graph(zip(stubs[:m], stubs[m:]))\n",
    "    G.remove_edges_from(G.selfloop_edges())\n",
    "    return G"
   ]
  },
  {
   "cell_type": "code",
   "execution_count": 12,
   "metadata": {},
   "outputs": [
    {
     "name": "stdout",
     "output_type": "stream",
     "text": [
      "5 5\n"
     ]
    }
   ],
   "source": [
    "dd = [3, 2, 2, 1, 1, 1]\n",
    "G = configuration(dd)\n",
    "print(sum(dd)//2, G.size())"
   ]
  },
  {
   "cell_type": "code",
   "execution_count": 13,
   "metadata": {},
   "outputs": [
    {
     "name": "stderr",
     "output_type": "stream",
     "text": [
      "/srv/conda/lib/python3.7/site-packages/networkx/drawing/nx_pylab.py:611: MatplotlibDeprecationWarning: isinstance(..., numbers.Number)\n",
      "  if cb.is_numlike(alpha):\n"
     ]
    },
    {
     "data": {
      "image/png": "[encoded data removed]",
      "text/plain": [
       "<Figure size 432x288 with 1 Axes>"
      ]
     },
     "metadata": {},
     "output_type": "display_data"
    }
   ],
   "source": [
    "nx.draw(G, with_labels=True, node_color = 'y')"
   ]
  },
  {
   "cell_type": "markdown",
   "metadata": {},
   "source": [
    "In order to produce a **degree sequence** for $n$ nodes from a given\n",
    "**degree distribution** $(p_k)$,\n",
    "we need to draw $n$ items from the discrete\n",
    "distribution $(p_k)$.  This functionality is provided by the  `numpy` function `random.choice`."
   ]
  },
  {
   "cell_type": "code",
   "execution_count": 14,
   "metadata": {},
   "outputs": [],
   "source": [
    "from numpy.random import choice"
   ]
  },
  {
   "cell_type": "markdown",
   "metadata": {},
   "source": [
    "For example, to pick $4$ from $(0,1,\\dotsc,5)$ where $5$ is $5$ times more likely than the other values:"
   ]
  },
  {
   "cell_type": "code",
   "execution_count": 15,
   "metadata": {},
   "outputs": [
    {
     "data": {
      "text/plain": [
       "[0, 5, 5, 5]"
      ]
     },
     "execution_count": 15,
     "metadata": {},
     "output_type": "execute_result"
    }
   ],
   "source": [
    "sorted(choice(range(6), 4, p=5*[0.1] + [0.5]))"
   ]
  },
  {
   "cell_type": "markdown",
   "metadata": {},
   "source": [
    "The $3$ arguments to the `choice` call are\n",
    "* a list of objects to be picked from (here $(0,1,\\dotsc,5)$ represented as `range(6)`),\n",
    "* the number $n$ of objects to be picked (here $n = 4$),\n",
    "* and the list of discrete probabilities as a parameter with key `p`\n",
    "(here it is $(0.1, 0.1, 0.1, 0.1, 0.1, 0.5)$).\n",
    "\n",
    "`sorted` is used to convert the result into a proper list,\n",
    "with values sorted increasingly.\n",
    "Note how this can produce repreatedly selected numbers."
   ]
  },
  {
   "cell_type": "markdown",
   "metadata": {},
   "source": [
    "* Construct a **discrete probability distribution** $(p_k)$ of length $100$, say,\n",
    "  with $p_0 = 0$, $p_1$ relatively small, and such that $p_k$ follows a power law\n",
    "  with exponent $\\gamma = 2$ otherwise; make sure that $\\sum_{k=0}^{99} = 1$.\n",
    "* Use the above `choice` function to produce a **degree sequence** of length\n",
    "  $5000$, say, with degree distribution $(p_k)$.\n",
    "* Use the above function `configuation` to produce a **random network** `C` with that \n",
    "  degree sequence.\n",
    "* How many nodes and edges do you expect, how many nodes and edges does the graph\n",
    "  `C` actually have?\n",
    "* In `networkx`, a configuration model can be generated with the function \n",
    "  `nx.configuration_model(degrees)`.  Apply this function to the same degree\n",
    "  sequence to obtain a random network `D`.   How many nodes and edges does\n",
    "  the graph `D` have?\n",
    "  \n",
    "(If $n = 5000$ turns out to be to large, use a smaller number of nodes.)"
   ]
  },
  {
   "cell_type": "code",
   "execution_count": 16,
   "metadata": {},
   "outputs": [
    {
     "name": "stdout",
     "output_type": "stream",
     "text": [
      "[0.15, 0.0375, 0.016666666666666666, 0.009375, 0.006, 0.004166666666666667, 0.003061224489795918, 0.00234375, 0.0018518518518518517, 0.0015, 0.0012396694214876034, 0.0010416666666666667, 0.0008875739644970414, 0.0007653061224489796, 0.0006666666666666666, 0.0005859375, 0.0005190311418685121, 0.0004629629629629629, 0.0004155124653739612, 0.000375, 0.0003401360544217687, 0.00030991735537190085, 0.00028355387523629487, 0.00026041666666666666, 0.00024, 0.00022189349112426034, 0.00020576131687242795, 0.0001913265306122449, 0.00017835909631391198, 0.00016666666666666666, 0.00015608740894901147, 0.000146484375, 0.0001377410468319559, 0.00012975778546712804, 0.00012244897959183673, 0.00011574074074074073, 0.0001095690284879474, 0.0001038781163434903, 9.861932938856015e-05, 9.375e-05, 8.92325996430696e-05, 8.503401360544217e-05, 8.112493239588967e-05, 7.747933884297521e-05, 7.407407407407407e-05, 7.088846880907372e-05, 6.79040289723857e-05, 6.510416666666667e-05, 6.247396917950854e-05, 6e-05, 5.7670126874279124e-05, 5.5473372781065086e-05, 5.33997864008544e-05, 5.144032921810699e-05, 4.958677685950414e-05, 4.783163265306122e-05, 4.616805170821791e-05, 4.4589774078477996e-05, 4.3091065785693765e-05, 4.1666666666666665e-05, 4.031174415479709e-05, 3.9021852237252867e-05, 3.779289493575208e-05, 3.662109375e-05, 3.5502958579881656e-05, 3.443526170798898e-05, 3.341501447983961e-05, 3.243944636678201e-05, 3.15059861373661e-05, 3.061224489795918e-05, 2.9756000793493354e-05, 2.8935185185185183e-05, 2.81478701444924e-05, 2.739225712198685e-05, 2.6666666666666667e-05, 2.5969529085872575e-05, 2.5299375948726597e-05, 2.465483234714004e-05, 2.403460983816696e-05, 2.34375e-05, 2.2862368541380887e-05, 2.23081499107674e-05, 2.177384235738133e-05, 2.1258503401360543e-05, 2.0761245674740486e-05, 2.0281233098972417e-05, 1.9817677368212444e-05, 1.9369834710743803e-05, 1.8937002903673777e-05, 1.8518518518518518e-05, 1.811375437749064e-05, 1.772211720226843e-05, 1.7343045438779048e-05, 1.6976007243096424e-05, 1.6620498614958448e-05, 1.6276041666666666e-05, 1.5942183016261028e-05, 1.5618492294877134e-05, 1.5304560759106214e-05, 1.5e-05]\n"
     ]
    },
    {
     "data": {
      "text/plain": [
       "<matplotlib.axes._subplots.AxesSubplot at 0x7f6e9d29cd30>"
      ]
     },
     "execution_count": 16,
     "metadata": {},
     "output_type": "execute_result"
    },
    {
     "data": {
      "image/png": "[encoded data removed]",
      "text/plain": [
       "<Figure size 432x288 with 1 Axes>"
      ]
     },
     "metadata": {
      "needs_background": "light"
     },
     "output_type": "display_data"
    }
   ],
   "source": [
    "\n",
    "df1 = pd.DataFrame()\n",
    "def power_dist(c, gamma, k):\n",
    "    return c * k**(-gamma)\n",
    "mm=100\n",
    "c = 0.15\n",
    "po1 = [power_dist(c, 2, k) for k in range(1,mm+1)]\n",
    "print(po1)\n",
    "df1['power1'] = po1\n",
    "\n",
    "df1.plot()\n",
    "\n"
   ]
  },
  {
   "cell_type": "code",
   "execution_count": 17,
   "metadata": {},
   "outputs": [
    {
     "name": "stdout",
     "output_type": "stream",
     "text": [
      "[0, -0.26976780036978454, 0.5, 0.2222222222222222, 0.125, 0.08, 0.05555555555555555, 0.04081632653061224, 0.03125, 0.024691358024691357, 0.02, 0.01652892561983471, 0.013888888888888888, 0.011834319526627219, 0.01020408163265306, 0.008888888888888889, 0.0078125, 0.006920415224913495, 0.006172839506172839, 0.00554016620498615, 0.005, 0.0045351473922902496, 0.004132231404958678, 0.003780718336483932, 0.003472222222222222, 0.0032, 0.0029585798816568047, 0.0027434842249657062, 0.002551020408163265, 0.0023781212841854932, 0.0022222222222222222, 0.002081165452653486, 0.001953125, 0.0018365472910927456, 0.0017301038062283738, 0.0016326530612244899, 0.0015432098765432098, 0.0014609203798392988, 0.0013850415512465374, 0.0013149243918474688, 0.00125, 0.001189767995240928, 0.0011337868480725624, 0.001081665765278529, 0.0010330578512396695, 0.0009876543209876543, 0.000945179584120983, 0.0009053870529651426, 0.0008680555555555555, 0.0008329862557267805, 0.0008, 0.0007689350249903883, 0.0007396449704142012, 0.000711997152011392, 0.0006858710562414266, 0.0006611570247933885, 0.0006377551020408163, 0.0006155740227762388, 0.0005945303210463733, 0.0005745475438092502, 0.0005555555555555556, 0.0005374899220639613, 0.0005202913631633715, 0.0005039052658100278, 0.00048828125, 0.00047337278106508875, 0.0004591368227731864, 0.00044553352639786146, 0.00043252595155709344, 0.0004200798151648813, 0.00040816326530612246, 0.00039674667724657806, 0.00038580246913580245, 0.0003753049352598987, 0.0003652300949598247, 0.00035555555555555557, 0.00034626038781163435, 0.00033732501264968796, 0.0003287310979618672, 0.0003204614645088928, 0.0003125, 0.00030483158055174517, 0.000297441998810232, 0.00029031789809841774, 0.0002834467120181406, 0.0002768166089965398, 0.00027041644131963225, 0.0002642356982428326, 0.00025826446280991736, 0.0002524933720489837, 0.0002469135802469136, 0.00024151672503320854, 0.00023629489603024575, 0.00023124060585038732, 0.00022634676324128565, 0.00022160664819944597, 0.00021701388888888888, 0.0002125624402168137, 0.00020824656393169514, 0.00020406081012141618]\n",
      "1.0000000000000013\n"
     ]
    }
   ],
   "source": [
    "gamma = 2\n",
    "c = 2\n",
    "p = [0] + [c * k**(-gamma) for k in range(1,100)]\n",
    "p[1] = p[1] - (sum(p) - 1)\n",
    "print(p)\n",
    "print(sum(p))\n",
    "\n",
    "#sorted(choice(range(6), 5000, p=[0] + [c * k**(-gamma) for k in range(1,100)]))"
   ]
  },
  {
   "cell_type": "markdown",
   "metadata": {},
   "source": [
    "### 3. Preferential Linear Attachment"
   ]
  },
  {
   "cell_type": "markdown",
   "metadata": {},
   "source": [
    "The following algorithm, introduced and named after Barabási-Albert, **grows** a network \n",
    "from a complete graph on $a$ nodes, by\n",
    "adding one node at a time, together with $b$ new edges, linking the new node to \n",
    "$b$ old nodes, with a probability given by their current degrees:\n",
    "\n",
    "An $(n, a, b)$**-BA model** is a (simple) graph on $n$ nodes, constructed as follows.\n",
    "1. start with a complete graph on $a$ nodes (at time $t = 0$)\n",
    "2. for $t = 1, \\dots, n-a-1$:\n",
    "    * add new node $x = a + t$\n",
    "    * and $b$ links to old nodes with probability \n",
    "      $$\n",
    "      p_{x \\to i} = \\frac{k_{i, t-1}}{2 m_{t-1}},\n",
    "      $$\n",
    "      where $k_{i,t}$ is the degree of node $i$ at time $t$ and $m_t$ is the\n",
    "      number of edges at time $t$."
   ]
  },
  {
   "cell_type": "markdown",
   "metadata": {},
   "source": [
    "For an implementation of this algorithm, we need to be able to draw $m$ **distinct** items from the discrete\n",
    "distribution $(p_{x\\to i})_i$.  This functionality is also provided by the  `numpy` function `random.choice`,\n",
    "by setting an additional keyword parameter `replace` to `False`."
   ]
  },
  {
   "cell_type": "code",
   "execution_count": 18,
   "metadata": {},
   "outputs": [],
   "source": [
    "from numpy.random import choice"
   ]
  },
  {
   "cell_type": "code",
   "execution_count": 19,
   "metadata": {},
   "outputs": [
    {
     "data": {
      "text/plain": [
       "[0, 3, 4, 5]"
      ]
     },
     "execution_count": 19,
     "metadata": {},
     "output_type": "execute_result"
    }
   ],
   "source": [
    "sorted(choice(range(6), 4, p=5*[0.1] + [0.5], replace=False))"
   ]
  },
  {
   "cell_type": "markdown",
   "metadata": {},
   "source": [
    "No we are ready to grow a graph.  Let's set $a = 3$ and $b = 2$ for starters."
   ]
  },
  {
   "cell_type": "code",
   "execution_count": 20,
   "metadata": {},
   "outputs": [],
   "source": [
    "a, b = 3, 2"
   ]
  },
  {
   "cell_type": "code",
   "execution_count": 21,
   "metadata": {},
   "outputs": [
    {
     "data": {
      "text/plain": [
       "DegreeView({0: 2, 1: 2, 2: 2})"
      ]
     },
     "execution_count": 21,
     "metadata": {},
     "output_type": "execute_result"
    }
   ],
   "source": [
    "G = nx.complete_graph(a)\n",
    "G.degree()"
   ]
  },
  {
   "cell_type": "code",
   "execution_count": 22,
   "metadata": {},
   "outputs": [
    {
     "data": {
      "text/plain": [
       "(3, 3)"
      ]
     },
     "execution_count": 22,
     "metadata": {},
     "output_type": "execute_result"
    }
   ],
   "source": [
    "x, m = G.order(), G.size()\n",
    "x, m"
   ]
  },
  {
   "cell_type": "markdown",
   "metadata": {},
   "source": [
    "Compute a discrete probabilty distribution corresponding to node degrees."
   ]
  },
  {
   "cell_type": "code",
   "execution_count": 23,
   "metadata": {},
   "outputs": [
    {
     "data": {
      "text/plain": [
       "[0.3333333333333333, 0.3333333333333333, 0.3333333333333333]"
      ]
     },
     "execution_count": 23,
     "metadata": {},
     "output_type": "execute_result"
    }
   ],
   "source": [
    "prob = [d/(2*m) for n, d in G.degree()]\n",
    "prob"
   ]
  },
  {
   "cell_type": "markdown",
   "metadata": {},
   "source": [
    "Select $b$ distinct nodes from the old graph according to the probabilities `prob`"
   ]
  },
  {
   "cell_type": "code",
   "execution_count": 24,
   "metadata": {},
   "outputs": [
    {
     "data": {
      "text/plain": [
       "[1, 2]"
      ]
     },
     "execution_count": 24,
     "metadata": {},
     "output_type": "execute_result"
    }
   ],
   "source": [
    "old = sorted(choice(G.nodes(), b, p=prob, replace = False))\n",
    "old"
   ]
  },
  {
   "cell_type": "markdown",
   "metadata": {},
   "source": [
    "Add edges from a new node `x` to the selected nodes."
   ]
  },
  {
   "cell_type": "code",
   "execution_count": 25,
   "metadata": {},
   "outputs": [],
   "source": [
    "G.add_edges_from([(x, o) for o in old])"
   ]
  },
  {
   "cell_type": "markdown",
   "metadata": {},
   "source": [
    "Draw the resulting graph."
   ]
  },
  {
   "cell_type": "code",
   "execution_count": 26,
   "metadata": {},
   "outputs": [
    {
     "data": {
      "image/png": "[encoded data removed]",
      "text/plain": [
       "<Figure size 432x288 with 1 Axes>"
      ]
     },
     "metadata": {},
     "output_type": "display_data"
    }
   ],
   "source": [
    "nx.draw(G, with_labels=True, node_color='y')"
   ]
  },
  {
   "cell_type": "markdown",
   "metadata": {},
   "source": [
    "For the next node, all of the previous steps are repeated."
   ]
  },
  {
   "cell_type": "code",
   "execution_count": 27,
   "metadata": {},
   "outputs": [],
   "source": [
    "x, m  = G.order(), G.size()\n",
    "prob = [d/(2*m) for n, d in G.degree()]\n",
    "old = sorted(choice(G.nodes(), b, p=prob, replace = False))\n",
    "G.add_edges_from([(x, o) for o in old])"
   ]
  },
  {
   "cell_type": "markdown",
   "metadata": {},
   "source": [
    "And again, we can draw the resulting graph."
   ]
  },
  {
   "cell_type": "code",
   "execution_count": 28,
   "metadata": {},
   "outputs": [
    {
     "data": {
      "image/png": "[encoded data removed]",
      "text/plain": [
       "<Figure size 432x288 with 1 Axes>"
      ]
     },
     "metadata": {},
     "output_type": "display_data"
    }
   ],
   "source": [
    "nx.draw(G, with_labels=True, node_color='y')"
   ]
  },
  {
   "cell_type": "markdown",
   "metadata": {},
   "source": [
    "And so on ..."
   ]
  },
  {
   "cell_type": "markdown",
   "metadata": {},
   "source": [
    "* Add 20 more nodes to the graph `G` by repeating the above steps\n",
    "  and draw the resulting graph.\n",
    "* Add 250 more nodes to the graph `G` by repeating the above steps\n",
    "  (preferrably with a python `for` loop, rather than typing out 250 identical pieces of code.)\n",
    "* Compute the graph clustering coefficient $C$ and the characteristic path length $L$ of `G`.\n",
    "  How do these values compare to ER-random graphs of similar size?\n",
    "* Create a loglog plot of the degree histogram of the final version of `G`: does this\n",
    "  indicate a power law distribution?  If so, what is the exponent $\\gamma$?\n",
    "* In `networkx`, a BA-model can be generated with the function\n",
    "  `nx.barabasi_albert_graph(n, b)` (where $a = b$ in terms of our parameters, and the initial\n",
    "  graph is an **empty** graph on $a$ nodes).  Use this function to generate a graph `B`\n",
    "  comparable to `G` above, and check whether its degree distribution follows a power law."
   ]
  },
  {
   "cell_type": "code",
   "execution_count": 29,
   "metadata": {},
   "outputs": [
    {
     "name": "stdout",
     "output_type": "stream",
     "text": [
      "0.07267815654298779\n",
      "3.431753161680169\n"
     ]
    },
    {
     "data": {
      "text/plain": [
       "-17.74698888786265"
      ]
     },
     "execution_count": 29,
     "metadata": {},
     "output_type": "execute_result"
    }
   ],
   "source": [
    "for i in range(0,19):\n",
    "    x, m  = G.order(), G.size()\n",
    "    prob = [d/(2*m) for n, d in G.degree()]\n",
    "    old = sorted(choice(G.nodes(), b, p=prob, replace = False))\n",
    "    G.add_edges_from([(x, o) for o in old])\n",
    "    \n",
    "for i in range(0,250):\n",
    "    x, m  = G.order(), G.size()\n",
    "    prob = [d/(2*m) for n, d in G.degree()]\n",
    "    old = sorted(choice(G.nodes(), b, p=prob, replace = False))\n",
    "    G.add_edges_from([(x, o) for o in old])\n",
    "\n",
    "\n",
    "print(nx.average_clustering(G))\n",
    "\n",
    "\n",
    "print(nx.average_shortest_path_length(G))\n",
    "from math import log\n",
    "kbar = sum(dict(G.degree()).values()) / n\n",
    "log(n) / log(kbar)"
   ]
  },
  {
   "cell_type": "markdown",
   "metadata": {},
   "source": [
    "### 4. Course Summary"
   ]
  },
  {
   "cell_type": "markdown",
   "metadata": {},
   "source": [
    "* In your own words, summarize the contents of the course.  What is Network Science?  Which parts are covered in the course, which are missing?  Use complete sentences.  Write approximately 100 words."
   ]
  },
  {
   "cell_type": "markdown",
   "metadata": {},
   "source": [
    "To me this course is about modelling complex systems and interactions as networks (essentially just edges and vertices). This modelling technique allows us to perform analysis of the modelled networks and make observations on large amounts of data. We made extensive use of the networkx package in Python, which was pretty intuitive as I'm quite familiar with python at this stage in college. Networks Science studies complex networks and performs analysis on them.\n",
    "\n",
    "We covered most network properties such as: density, size, clustering coefficient, shortest path length etc. We also looked at different kinds of networks such as social networks, randomnly generated graphs, bipartite graphs, configuration models etc. We finished up looking at power laws as well. "
   ]
  },
  {
   "cell_type": "code",
   "execution_count": null,
   "metadata": {},
   "outputs": [],
   "source": []
  }
 ],
 "metadata": {
  "kernelspec": {
   "display_name": "Python 3",
   "language": "python",
   "name": "python3"
  },
  "language_info": {
   "codemirror_mode": {
    "name": "ipython",
    "version": 3
   },
   "file_extension": ".py",
   "mimetype": "text/x-python",
   "name": "python",
   "nbconvert_exporter": "python",
   "pygments_lexer": "ipython3",
   "version": "3.7.2"
  }
 },
 "nbformat": 4,
 "nbformat_minor": 2
}
